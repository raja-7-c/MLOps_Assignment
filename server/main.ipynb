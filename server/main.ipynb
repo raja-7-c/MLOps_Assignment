{
 "cells": [
  {
   "cell_type": "code",
   "execution_count": 1,
   "id": "7d859208",
   "metadata": {},
   "outputs": [],
   "source": [
    "# Import Uvicorn & the necessary modules from FastAPI\n",
    "import uvicorn\n",
    "from fastapi import FastAPI, File, UploadFile, HTTPException\n"
   ]
  },
  {
   "cell_type": "code",
   "execution_count": 2,
   "id": "d4130e6c",
   "metadata": {},
   "outputs": [],
   "source": [
    "# Import the PyCaret Regression module\n",
    "import pycaret.classification as pycls\n",
    "\n",
    "# Import other necessary packages\n",
    "from dotenv import load_dotenv\n",
    "import pandas as pd\n",
    "import os\n"
   ]
  },
  {
   "cell_type": "code",
   "execution_count": 3,
   "id": "ebcb8ea0",
   "metadata": {},
   "outputs": [],
   "source": [
    "# Load the environment variables from the .env file into the application\n",
    "load_dotenv() \n",
    "\n",
    "# Initialize the FastAPI application\n",
    "app = FastAPI()"
   ]
  },
  {
   "cell_type": "code",
   "execution_count": 4,
   "id": "13ccbdf9",
   "metadata": {},
   "outputs": [],
   "source": [
    "# Create a class to store the deployed model & use it for prediction\n",
    "class Model:\n",
    "    def __init__(self, modelname, bucketname):\n",
    "        \"\"\"\n",
    "        Function to initalize the model\n",
    "        modelname: Name of the model stored in the S3 bucket\n",
    "        bucketname: Name of the S3 bucket\n",
    "        \"\"\"\n",
    "        # Load the deployed model from Amazon S3\n",
    "        self.model = pycls.load_model(modelname, platform = 'aws', authentication = { 'bucket' : bucketname })\n",
    "    \n",
    "    def predict(self, data):\n",
    "        \"\"\"\n",
    "        Function to use the loaded model to make predictions on the data\n",
    "        data: Pandas DataFrame to perform predictions\n",
    "        \"\"\"\n",
    "        # After predicting, we return only the column containing the predictions (i.e. 'Label') after converting it to a list\n",
    "        predictions = pycls.predict_model(self.model, data=data).Label.to_list()\n",
    "        return predictions\n",
    "\n"
   ]
  },
  {
   "cell_type": "code",
   "execution_count": 6,
   "id": "c8d00251",
   "metadata": {},
   "outputs": [
    {
     "name": "stdout",
     "output_type": "stream",
     "text": [
      "Transformation Pipeline and Model Successfully Loaded\n"
     ]
    }
   ],
   "source": [
    "# Load the model\n",
    "model = Model(\"lda_deployed\", \"mlopsdvc190110070\")\n"
   ]
  },
  {
   "cell_type": "code",
   "execution_count": 7,
   "id": "0ed31059",
   "metadata": {},
   "outputs": [],
   "source": [
    "# Create the POST endpoint with path '/lda/predict'\n",
    "@app.post(\"/lda/predict\")\n",
    "# To understand how to handle file uploads in FastAPI, visit the documentation here\n",
    "async def create_upload_file(file: UploadFile = File(...)):\n",
    "    # Handle the file only if it is a CSV\n",
    "    if file.filename.endswith(\".csv\"):\n",
    "        \n",
    "        # Create a temporary file with the same name as the uploaded CSV file so that the data can be loaded into a pandas Dataframe\n",
    "        with open(file.filename, \"wb\")as f:\n",
    "            f.write(file.file.read())\n",
    "        data = pd.read_csv(file.filename)\n",
    "        os.remove(file.filename)\n",
    "\n",
    "        # Return a JSON object containing the model predictions on the data\n",
    "        return {\n",
    "            \"Labels\": model.predict(data)\n",
    "        }\n",
    "    \n",
    "    else:\n",
    "        # Raise a HTTP 400 Exception, indicating Bad Request (you can learn more about HTTP response status codes here)\n",
    "        raise HTTPException(status_code=400, detail=\"Invalid file format. Only CSV Files accepted.\")\n",
    "\n",
    "\n",
    "# Check if the necessary environment variables for AWS access are available. If not, exit the program\n",
    "if os.getenv(\"AWS_ACCESS_KEY_ID\") == None or os.getenv(\"AWS_SECRET_ACCESS_KEY\") == None:\n",
    "    print(\"AWS Credentials missing. Please set required environment variables.\")\n",
    "    exit(1)\n",
    "    "
   ]
  },
  {
   "cell_type": "code",
   "execution_count": 8,
   "id": "3b5ac03e",
   "metadata": {},
   "outputs": [
    {
     "name": "stdout",
     "output_type": "stream",
     "text": [
      "Transformation Pipeline and Model Successfully Loaded\n"
     ]
    }
   ],
   "source": [
    "# Load the model\n",
    "model = Model(\"lr_deployed\", \"mlopsdvc190110070\")\n"
   ]
  },
  {
   "cell_type": "code",
   "execution_count": 9,
   "id": "db9af64d",
   "metadata": {},
   "outputs": [],
   "source": [
    "# Create the POST endpoint with path '/lr/predict'\n",
    "@app.post(\"/lr/predict\")\n",
    "# To understand how to handle file uploads in FastAPI, visit the documentation here\n",
    "async def create_upload_file(file: UploadFile = File(...)):\n",
    "    # Handle the file only if it is a CSV\n",
    "    if file.filename.endswith(\".csv\"):\n",
    "        \n",
    "        # Create a temporary file with the same name as the uploaded CSV file so that the data can be loaded into a pandas Dataframe\n",
    "        with open(file.filename, \"wb\")as f:\n",
    "            f.write(file.file.read())\n",
    "        data = pd.read_csv(file.filename)\n",
    "        os.remove(file.filename)\n",
    "\n",
    "        # Return a JSON object containing the model predictions on the data\n",
    "        return {\n",
    "            \"Labels\": model.predict(data)\n",
    "        }\n",
    "    \n",
    "    else:\n",
    "        # Raise a HTTP 400 Exception, indicating Bad Request (you can learn more about HTTP response status codes here)\n",
    "        raise HTTPException(status_code=400, detail=\"Invalid file format. Only CSV Files accepted.\")\n",
    "\n",
    "\n",
    "# Check if the necessary environment variables for AWS access are available. If not, exit the program\n",
    "if os.getenv(\"AWS_ACCESS_KEY_ID\") == None or os.getenv(\"AWS_SECRET_ACCESS_KEY\") == None:\n",
    "    print(\"AWS Credentials missing. Please set required environment variables.\")\n",
    "    exit(1)\n",
    "    "
   ]
  }
 ],
 "metadata": {
  "kernelspec": {
   "display_name": "Python 3",
   "language": "python",
   "name": "python3"
  },
  "language_info": {
   "codemirror_mode": {
    "name": "ipython",
    "version": 3
   },
   "file_extension": ".py",
   "mimetype": "text/x-python",
   "name": "python",
   "nbconvert_exporter": "python",
   "pygments_lexer": "ipython3",
   "version": "3.7.10"
  }
 },
 "nbformat": 4,
 "nbformat_minor": 5
}
